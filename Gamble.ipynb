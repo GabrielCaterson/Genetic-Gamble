{
 "cells": [
  {
   "cell_type": "code",
   "execution_count": null,
   "metadata": {
    "vscode": {
     "languageId": "javascript"
    }
   },
   "outputs": [
    {
     "ename": "",
     "evalue": "",
     "output_type": "error",
     "traceback": [
      "\u001b[1;31mRunning cells with '/usr/bin/python3' requires the ipykernel package.\n",
      "\u001b[1;31mRun the following command to install 'ipykernel' into the Python environment. \n",
      "\u001b[1;31mCommand: '/usr/bin/python3 -m pip install ipykernel -U --user --force-reinstall'"
     ]
    }
   ],
   "source": [
    "const color = require(\"./color.js\");\n",
    "\n",
    "let falseRuin = 1000;\n",
    "let cash = 100000;\n",
    "let amountToBet = 200;\n",
    "let didWin = Math.round(Math.random(1));\n",
    "\n",
    "let maximum = 0;\n",
    "\n",
    "\n",
    "\n",
    "for (i=0; i<100000; i++) {\n",
    "\n",
    "    if (maximum < cash) {\n",
    "        maximum = cash;\n",
    "    }\n",
    "\n",
    "    if (cash <= 0) {\n",
    "        amountToBet = 0;\n",
    "    }\n",
    "    if (cash <= falseRuin) {\n",
    "        amountToBet = 1;\n",
    "    }\n",
    "\n",
    "    if (didWin) {\n",
    "        amountToBet = Math.ceil(amountToBet * 1.9);\n",
    "        falseRuin = falseRuin + (amountToBet * .1);\n",
    "    } else {\n",
    "        amountToBet = Math.ceil(amountToBet * 0.4);\n",
    "        if (cash < falseRuin) {\n",
    "            falseRuin = cash;\n",
    "        }\n",
    "    }\n",
    "\n",
    "    didWin = Math.round(Math.random(1));\n",
    "\n",
    "\n",
    "\n",
    "\n",
    "\n",
    "\n",
    "    if (didWin) {\n",
    "        cash = cash + amountToBet;\n",
    "    } else {\n",
    "        cash = cash - amountToBet;\n",
    "    }\n",
    "\n",
    "\n",
    "    if(i%20000 == 0) {\n",
    "        console.log(\"iteration: \" + i);\n",
    "        console.log(\"false ruin: \" + falseRuin);\n",
    "        console.log(\"amount to bet: \" + amountToBet);\n",
    "        console.log(\"maximum: \" + maximum);\n",
    "\n",
    "        color.red(\"cash:-------------\" + cash);\n",
    "\n",
    "        console.log();\n",
    "    }\n",
    "}\n",
    "\n",
    "console.log(\"maximum: \" + maximum);\n",
    "\n"
   ]
  },
  {
   "cell_type": "code",
   "execution_count": null,
   "metadata": {
    "vscode": {
     "languageId": "javascript"
    }
   },
   "outputs": [],
   "source": []
  }
 ],
 "metadata": {
  "kernelspec": {
   "display_name": "Python 3",
   "language": "python",
   "name": "python3"
  },
  "language_info": {
   "name": "python",
   "version": "3.8.9"
  },
  "orig_nbformat": 4,
  "vscode": {
   "interpreter": {
    "hash": "31f2aee4e71d21fbe5cf8b01ff0e069b9275f58929596ceb00d14d90e3e16cd6"
   }
  }
 },
 "nbformat": 4,
 "nbformat_minor": 2
}
